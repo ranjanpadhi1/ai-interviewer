{
 "cells": [
  {
   "cell_type": "code",
   "execution_count": 3,
   "metadata": {},
   "outputs": [
    {
     "data": {
      "text/plain": [
       "True"
      ]
     },
     "execution_count": 3,
     "metadata": {},
     "output_type": "execute_result"
    }
   ],
   "source": [
    "from langchain_community.document_loaders import PyPDFLoader\n",
    "from langchain_text_splitters import RecursiveCharacterTextSplitter\n",
    "from langchain_huggingface import HuggingFaceEmbeddings\n",
    "from langchain_community.vectorstores import FAISS\n",
    "from langchain_groq import ChatGroq\n",
    "from langchain.prompts import ChatPromptTemplate, PromptTemplate\n",
    "from langchain.chains.combine_documents import create_stuff_documents_chain\n",
    "from langchain.chains.retrieval import create_retrieval_chain\n",
    "from langchain_core.output_parsers import JsonOutputParser\n",
    "from IPython.display import JSON\n",
    "from dotenv import load_dotenv\n",
    "\n",
    "load_dotenv()"
   ]
  },
  {
   "cell_type": "code",
   "execution_count": 4,
   "metadata": {},
   "outputs": [
    {
     "name": "stderr",
     "output_type": "stream",
     "text": [
      "d:\\Practice\\ai-interviewer\\venv\\Lib\\site-packages\\sentence_transformers\\cross_encoder\\CrossEncoder.py:13: TqdmWarning: IProgress not found. Please update jupyter and ipywidgets. See https://ipywidgets.readthedocs.io/en/stable/user_install.html\n",
      "  from tqdm.autonotebook import tqdm, trange\n",
      "d:\\Practice\\ai-interviewer\\venv\\Lib\\site-packages\\transformers\\tokenization_utils_base.py:1617: FutureWarning: `clean_up_tokenization_spaces` was not set. It will be set to `True` by default. This behavior will be deprecated in transformers v4.45, and will be then set to `False` by default. For more details check this issue: https://github.com/huggingface/transformers/issues/31884\n",
      "  warnings.warn(\n"
     ]
    }
   ],
   "source": [
    "embedding = HuggingFaceEmbeddings(model_name=\"all-MiniLM-L6-v2\")\n",
    "llm = ChatGroq(model=\"Gemma2-9b-It\")"
   ]
  },
  {
   "cell_type": "code",
   "execution_count": 5,
   "metadata": {},
   "outputs": [],
   "source": [
    "documents = PyPDFLoader(\"Ranjan_Padhi_Resume.pdf\").load()\n",
    "sp = RecursiveCharacterTextSplitter(chunk_size=700, chunk_overlap=100)\n",
    "chunks = sp.split_documents(documents)\n",
    "\n",
    "vector_store = FAISS.from_documents(chunks, embedding)"
   ]
  },
  {
   "cell_type": "code",
   "execution_count": 14,
   "metadata": {},
   "outputs": [],
   "source": [
    "prompt = PromptTemplate.from_template(\n",
    "    \"\"\"\n",
    "    You are an assistant who can retrieve information from given PDF Resume/CV context:                            \n",
    "        <context>\n",
    "        {context}\n",
    "        </context>\n",
    "        {input}\n",
    "    \"\"\"\n",
    ")\n",
    "\n",
    "input = \"\"\"\n",
    "    Extract Employee's name, years of experience, technical skills and other skills and return in below JSON format\n",
    "\n",
    "        {{\n",
    "            \"empName\" : Employee's name as string,\n",
    "            \"yoe\" : Years of experince as number,\n",
    "            \"techSkills\" : [list of technical skills]\n",
    "            \"otherSkills\" : [list of other skills]\n",
    "        }}\n",
    "\"\"\""
   ]
  },
  {
   "cell_type": "code",
   "execution_count": 15,
   "metadata": {},
   "outputs": [],
   "source": [
    "doc_chain = create_stuff_documents_chain(llm, prompt, output_parser = JsonOutputParser())\n",
    "retriever = vector_store.as_retriever()\n",
    "\n",
    "chain = create_retrieval_chain(retriever, doc_chain)"
   ]
  },
  {
   "cell_type": "code",
   "execution_count": 18,
   "metadata": {},
   "outputs": [
    {
     "data": {
      "text/plain": [
       "{'empName': 'Ranjan Padhi',\n",
       " 'yoe': 8,\n",
       " 'skills': ['Java',\n",
       "  'JavaScript',\n",
       "  'HTML',\n",
       "  'CSS',\n",
       "  'Hibernate/RACLES',\n",
       "  'Cloud',\n",
       "  'Software Development',\n",
       "  'System Design',\n",
       "  'Problem Solving',\n",
       "  'Design Patterns',\n",
       "  'Dev/Team Management',\n",
       "  'Agile',\n",
       "  'React.js',\n",
       "  'Spring Boot',\n",
       "  'Micro Services']}"
      ]
     },
     "execution_count": 18,
     "metadata": {},
     "output_type": "execute_result"
    }
   ],
   "source": [
    "chain.invoke({\"input\": input})[\"answer\"]"
   ]
  }
 ],
 "metadata": {
  "kernelspec": {
   "display_name": "Python 3",
   "language": "python",
   "name": "python3"
  },
  "language_info": {
   "codemirror_mode": {
    "name": "ipython",
    "version": 3
   },
   "file_extension": ".py",
   "mimetype": "text/x-python",
   "name": "python",
   "nbconvert_exporter": "python",
   "pygments_lexer": "ipython3",
   "version": "3.12.0"
  }
 },
 "nbformat": 4,
 "nbformat_minor": 2
}
